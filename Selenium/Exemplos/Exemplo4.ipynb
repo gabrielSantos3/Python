{
 "cells": [
  {
   "cell_type": "code",
   "execution_count": 20,
   "metadata": {},
   "outputs": [
    {
     "name": "stdout",
     "output_type": "stream",
     "text": [
      "\u001b[33m Percorrendo a página 1...\n",
      "\u001b[33m Percorrendo a página 2...\n",
      "\u001b[33m Percorrendo a página 3...\n",
      "\u001b[33m Percorrendo a página 4...\n",
      "\u001b[33m Percorrendo a página 5...\n",
      "\n",
      " \u001b[32mTodas as páginas foram percorridas!\n"
     ]
    }
   ],
   "source": [
    "from selenium import webdriver\n",
    "from webdriver_manager.chrome import ChromeDriverManager\n",
    "from selenium.webdriver.chrome.service import Service\n",
    "from selenium.webdriver.common.by import By\n",
    "import pandas as pd\n",
    "from time import sleep\n",
    "\n",
    "# Cria instância do navegador e abre a página desejada\n",
    "\n",
    "servico = Service(ChromeDriverManager().install())\n",
    "driver = webdriver.Chrome(service=servico)\n",
    "\n",
    "driver.get('https://telefonesimportados.netlify.app/')\n",
    "\n",
    "# Realiza a raspagem de dados. Pega todos os produtos de todas as páginas.\n",
    "\n",
    "nomes = []\n",
    "precos = []\n",
    "contPgs = 1\n",
    "proxPgExiste = True\n",
    "\n",
    "# Enquanto existir o botão de ir para a próxima página, existe uma próxima página\n",
    "\n",
    "while proxPgExiste is True:\n",
    "    try:\n",
    "        nomeProduto = driver.find_elements(by=By.CSS_SELECTOR, value='h2 > a')\n",
    "        precoProduto = driver.find_elements(by=By.CSS_SELECTOR, value='div.product-carousel-price > ins')\n",
    "        \n",
    "        print(f'\\033[33m Percorrendo a página {contPgs}...')\n",
    "        sleep(2)\n",
    "        \n",
    "        for i in range(len(nomeProduto)):\n",
    "            nomes.append(nomeProduto[i].text)\n",
    "            precos.append(precoProduto[i].text)\n",
    "        \n",
    "        btnProx = driver.find_element('xpath', '/html/body/div[5]/div[2]/div[2]/div/div/nav/ul/li[7]/a')\n",
    "        contPgs += 1\n",
    "        btnProx.click()\n",
    "        \n",
    "    except:\n",
    "        proxPgExiste = False\n",
    "        print('\\n \\033[32mTodas as páginas foram percorridas!')\n",
    "        \n",
    "# Cria o dicionário recebendo os valores das listas e cria o DataFrame em seguida\n",
    "\n",
    "produto = {\n",
    "    'Nome': nomes,\n",
    "    'Preço': precos\n",
    "}\n",
    "\n",
    "df = pd.DataFrame(produto)\n",
    "\n",
    "#print(df)\n",
    "\n",
    "# Cria a planilha Excel\n",
    "\n",
    "#df.to_excel(\"produtos.xlsx\", index=False)\n",
    "\n",
    "driver.quit()        \n",
    "        \n",
    "    \n",
    "        "
   ]
  }
 ],
 "metadata": {
  "kernelspec": {
   "display_name": "Python 3",
   "language": "python",
   "name": "python3"
  },
  "language_info": {
   "codemirror_mode": {
    "name": "ipython",
    "version": 3
   },
   "file_extension": ".py",
   "mimetype": "text/x-python",
   "name": "python",
   "nbconvert_exporter": "python",
   "pygments_lexer": "ipython3",
   "version": "3.10.7"
  },
  "orig_nbformat": 4
 },
 "nbformat": 4,
 "nbformat_minor": 2
}
