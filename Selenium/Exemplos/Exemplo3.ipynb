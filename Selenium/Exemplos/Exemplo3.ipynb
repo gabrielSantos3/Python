{
 "cells": [
  {
   "cell_type": "code",
   "execution_count": 6,
   "metadata": {},
   "outputs": [
    {
     "name": "stdout",
     "output_type": "stream",
     "text": [
      "              Nome    Preço\n",
      "0   New Phone 2010  $356.00\n",
      "1   New Phone 2011  $568.00\n",
      "2   New Phone 2012  $667.00\n",
      "3   New Phone 2013  $532.00\n",
      "4   New Phone 2014  $223.00\n",
      "5   New Phone 2015  $535.00\n",
      "6   New Phone 2016  $665.00\n",
      "7   New Phone 2017  $554.00\n",
      "8   New Phone 2018  $765.00\n",
      "9   New Phone 2019  $567.00\n",
      "10  New Phone 2010  $765.00\n",
      "11  New Phone 2020  $654.00\n"
     ]
    }
   ],
   "source": [
    "from selenium import webdriver\n",
    "from webdriver_manager.chrome import ChromeDriverManager\n",
    "from selenium.webdriver.chrome.service import Service\n",
    "from selenium.webdriver.common.by import By\n",
    "import pandas as pd\n",
    "\n",
    "# Cria instância do navegador e abre a página desejada\n",
    "servico = Service(ChromeDriverManager().install())\n",
    "driver = webdriver.Chrome(service=servico)\n",
    "\n",
    "driver.get('https://telefonesimportados.netlify.app/')\n",
    "\n",
    "# Identifica os elementos que deseja extrair\n",
    "nomeProdutos = driver.find_elements(by=By.CSS_SELECTOR, value='h2 > a')\n",
    "precoProdutos = driver.find_elements(by=By.CSS_SELECTOR, value='div.product-carousel-price > ins')\n",
    "nome = []\n",
    "preco = []\n",
    "\n",
    "for i in range(len(nomeProdutos)):\n",
    "    nome.append(nomeProdutos[i].text)\n",
    "    preco.append(precoProdutos[i].text)\n",
    "    \n",
    "\n",
    "produto = {\n",
    "    'Nome': nome,\n",
    "    'Preço': preco\n",
    "}\n",
    "\n",
    "df = pd.DataFrame(produto)\n",
    "\n",
    "print(df)\n",
    "\n",
    "\n",
    "# Fecha o navegador\n",
    "driver.quit()"
   ]
  }
 ],
 "metadata": {
  "kernelspec": {
   "display_name": "Python 3",
   "language": "python",
   "name": "python3"
  },
  "language_info": {
   "codemirror_mode": {
    "name": "ipython",
    "version": 3
   },
   "file_extension": ".py",
   "mimetype": "text/x-python",
   "name": "python",
   "nbconvert_exporter": "python",
   "pygments_lexer": "ipython3",
   "version": "3.10.7"
  },
  "orig_nbformat": 4
 },
 "nbformat": 4,
 "nbformat_minor": 2
}
