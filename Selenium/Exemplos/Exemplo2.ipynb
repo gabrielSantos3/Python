{
 "cells": [
  {
   "attachments": {},
   "cell_type": "markdown",
   "metadata": {},
   "source": [
    "#### Automação WEB usando Selenium - Exemplo 2\n",
    "##### Webdriver Manager\n",
    "> * No exemplo anterior, precisávamos instalar manualmente o chromedriver e usá-lo. Mas a cada nova atualização do navegador, precisaríamos instalar manualmente uma versão do chromedriver correspondente.\n",
    " \n",
    "> * Para resolver este problema, importamos a biblioteca `webdriver_manager`, que irá automatizar este processo e instalar automaticamente uma versão do chromedriver correspondente à versão atual do navegador caso ainda não tenha sido instalada. Isso facilitará a nossa vida, evitando futuras dores de cabeça.\n",
    "\n",
    "> * Em contrapartida, o código demorará um pouco mais para ser executado, uma vez que essa biblioteca irá verificar se está tudo ok."
   ]
  },
  {
   "cell_type": "code",
   "execution_count": 4,
   "metadata": {},
   "outputs": [],
   "source": [
    "from selenium import webdriver\n",
    "from webdriver_manager.chrome import ChromeDriverManager\n",
    "from selenium.webdriver.chrome.service import Service\n",
    "\n",
    "servico = Service(ChromeDriverManager().install())\n",
    "navegador = webdriver.Chrome(service=servico)\n",
    "\n",
    "# Abre uma janela do navegador Chrome vazia.\n"
   ]
  },
  {
   "attachments": {},
   "cell_type": "markdown",
   "metadata": {},
   "source": [
    "#### Processo de automatização\n",
    "> * Existem diversas formas de automatizar processos web com Selenium. Um deles é pegar um elemento DOM do site e realizar algum tipo de ação com ele. Mas antes, temos que primeiramente abrir uma página web. Para isso, usaremos o método `get()` que recebe como parântro a url do site que desejamos abrir.\n",
    "\n",
    "> * Em seguida, usaremos um método poderosíssimo para localizar um elemento do DOM com base em um seletor específico, como ID, nome, classe, tag, link de texto, xpath, entre outros. Este método é o `find_element()`, que recebe dois parâmetros: O primeiro é o tipo de seletor do elemento (usaremos o xpath nesse exemplo) seguido pelo valor do atributo.\n",
    "\n",
    "> * Podemos realizar diversas ações com estes elementos. Por exemplo, podemos inserir valores dentro de elementos input através do método `send_keys()`, clicar através do método `click()`, etc. "
   ]
  },
  {
   "cell_type": "code",
   "execution_count": 8,
   "metadata": {},
   "outputs": [],
   "source": [
    "navegador.get(\"https://pages.hashtagtreinamentos.com/inscricao-minicurso-python-automacao-org?origemurl=hashtag_yt_org_minipython_videoselenium\")\n",
    "\n",
    "navegador.find_element('xpath', \n",
    "                       '//*[@id=\"section-10356508\"]/section/div[2]/div/div[2]/form/div[1]/div/div[1]/div/input').send_keys('MEU NOME')\n",
    "\n",
    "navegador.find_element('xpath', \n",
    "                       '//*[@id=\"section-10356508\"]/section/div[2]/div/div[2]/form/div[1]/div/div[2]/div/input').send_keys('SEU-EMAIL@GMAIL.COM')\n",
    "\n",
    "navegador.find_element('xpath', \n",
    "                       '//*[@id=\"section-10356508\"]/section/div[2]/div/div[2]/form/div[1]/div/div[3]/div/input').send_keys('(00) 00000-0000')\n",
    "\n",
    "navegador.find_element('xpath', \n",
    "                       '//*[@id=\"section-10356508\"]/section/div[2]/div/div[2]/form/button').click()"
   ]
  }
 ],
 "metadata": {
  "kernelspec": {
   "display_name": "Python 3",
   "language": "python",
   "name": "python3"
  },
  "language_info": {
   "codemirror_mode": {
    "name": "ipython",
    "version": 3
   },
   "file_extension": ".py",
   "mimetype": "text/x-python",
   "name": "python",
   "nbconvert_exporter": "python",
   "pygments_lexer": "ipython3",
   "version": "3.10.7"
  },
  "orig_nbformat": 4
 },
 "nbformat": 4,
 "nbformat_minor": 2
}
