{
 "cells": [
  {
   "attachments": {},
   "cell_type": "markdown",
   "metadata": {},
   "source": [
    "#### Automação WEB usando Selenium - Exemplo 1\n",
    "\n",
    "##### Selenium\n",
    "> * O Selenium é uma ferramenta de automação de testes de software que permite a criação e execução de testes em navegadores web. \n",
    "\n",
    "> * O Selenium funciona por meio de scripts que simulam a interação do usuário com a aplicação. Os testes automatizados podem cobrir desde testes simples, como preencher um formulário e verificar se a página de destino foi carregada, até testes mais complexos, que simulam vários usuários acessando a aplicação simultaneamente.\n",
    "##### WebDriver\n",
    "> * De forma mais geral, o Selenium é um conjunto de ferramentas de automação. O WebDriver Selenium é apenas uma parte do conjunto de ferramentas do Selenium, que é voltado especificamente para a automação de testes em navegadores web, oferecendo uma interface para interagir com páginas web e manipular elementos do DOM.\n",
    "##### Service\n",
    "> * Por fim, O Service da biblioteca Selenium é uma classe que ajuda a gerenciar e executar os drivers do navegador em segundo plano, permitindo que os testes automatizados sejam executados sem que o usuário precise ver o navegador em ação."
   ]
  },
  {
   "cell_type": "code",
   "execution_count": 2,
   "metadata": {},
   "outputs": [],
   "source": [
    "from selenium import webdriver\n",
    "from selenium.webdriver.chrome.service import Service\n",
    "\n",
    "#  Cria um Service que é quem irá inicializar e parar o chromewebdriver\n",
    "s = Service(\"chromedriver.exe\")\n",
    "driver = webdriver.Chrome(service=s)\n",
    "\n",
    "# Abre a URL\n",
    "driver.get('https://www.github.com/')\n",
    "\n",
    "input()\n",
    "driver.quit() "
   ]
  },
  {
   "attachments": {},
   "cell_type": "markdown",
   "metadata": {},
   "source": [
    "> * Por padrão, a janela do navegador é fechada assim que o código é executado. Para atrasar a execução da última linha, podemos importar a biblioteca time ou simplesmente inserir um input para adiar o fechamento da janela até que seja da nossa vontade."
   ]
  }
 ],
 "metadata": {
  "kernelspec": {
   "display_name": "Python 3",
   "language": "python",
   "name": "python3"
  },
  "language_info": {
   "codemirror_mode": {
    "name": "ipython",
    "version": 3
   },
   "file_extension": ".py",
   "mimetype": "text/x-python",
   "name": "python",
   "nbconvert_exporter": "python",
   "pygments_lexer": "ipython3",
   "version": "3.10.7"
  },
  "orig_nbformat": 4
 },
 "nbformat": 4,
 "nbformat_minor": 2
}
