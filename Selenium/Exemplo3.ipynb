{
 "cells": [
  {
   "cell_type": "code",
   "execution_count": null,
   "metadata": {},
   "outputs": [],
   "source": [
    "from selenium import webdriver\n",
    "from webdriver_manager.chrome import ChromeDriverManager\n",
    "from selenium.webdriver.chrome.service import Service\n",
    "from selenium.webdriver.common.by import By\n",
    "import pandas as pd\n",
    "\n",
    "# Cria instância do navegador e abre a página desejada\n",
    "servico = Service(ChromeDriverManager().install())\n",
    "driver = webdriver.Chrome(service=servico)\n",
    "\n",
    "driver.get('https://telefonesimportados.netlify.app/')\n",
    "\n",
    "# Identifica os elementos que deseja extrair\n",
    "nomeProdutos = driver.find_elements(by=By.CSS_SELECTOR, value='h2 > a')\n",
    "precoProdutos = driver.find_elements(by=By.CSS_SELECTOR, value='div.product-carousel-price > ins')\n",
    "nome = []\n",
    "preco = []\n",
    "\n",
    "for i in range(len(nomeProdutos)):\n",
    "    nome.append(nomeProdutos[i].text)\n",
    "    preco.append(precoProdutos[i].text)\n",
    "    \n",
    "\n",
    "produto = {\n",
    "    'Nome': nome,\n",
    "    'Preço': preco\n",
    "}\n",
    "\n",
    "df = pd.DataFrame(produto)\n",
    "print(df)\n",
    "\n",
    "\n",
    "# Fecha o navegador\n",
    "driver.quit()"
   ]
  }
 ],
 "metadata": {
  "kernelspec": {
   "display_name": "Python 3",
   "language": "python",
   "name": "python3"
  },
  "language_info": {
   "name": "python",
   "version": "3.10.7"
  },
  "orig_nbformat": 4
 },
 "nbformat": 4,
 "nbformat_minor": 2
}
