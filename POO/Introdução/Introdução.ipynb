{
 "cells": [
  {
   "attachments": {},
   "cell_type": "markdown",
   "metadata": {},
   "source": [
    "## Programação Orientada a Objetos\n",
    "\n",
    "* O paradigma de POO em Python funciona assim como em outras linguagens.\n",
    "\n",
    "* Uma classe é um conjunto de características e comportamentos que definem o conjunto de objetos pertencentes à aquela classe. Funciona como um molde, uma estrutura, algo da nossa realidade que desejamos abstrair. Mas ela por si só não faz nada, uma vez que por ser algo conceitual, não existe.\n",
    "\n",
    "* Um objeto é uma instância daquela classe. Ele sim é algo físico, concreto, palpável. Cada objeto é uma representação única e específica desse tipo de objeto. Assim, podemos traçar o seguinte paralelo: A planta de uma casa se comporta como uma classe, e a construção da casa em si, no objeto daquela classe."
   ]
  },
  {
   "attachments": {},
   "cell_type": "markdown",
   "metadata": {},
   "source": [
    "### POO em Python\n",
    "\n",
    "#### Declarando a classe e inicializando o construtor\n",
    "\n",
    "> * Para declarar uma classe em Python, utilizamos a palavra reservada `class` seguida pelo nome da classe e os dois pontos, da seguinte forma:\n",
    "\n",
    "~~~\n",
    "  class Pessoa:\n",
    "~~~\n",
    "\n",
    "> * Toda classe em Python obrigatoriamente deve possuir um construtor. É ele quem vai atribuir os valores passados como parâmetro aos valores do próprio objeto. Como o construtor é um método de acesso especial aos atributos, é declarado como um método, usando a palavra reservada `__init__(parâmetros):` da seguinte forma:"
   ]
  },
  {
   "cell_type": "code",
   "execution_count": 2,
   "metadata": {},
   "outputs": [],
   "source": [
    "class Pessoa:\n",
    "    \n",
    "    # Construtor\n",
    "    def __init__(self, nome, sexo, cpf):\n",
    "        self.nome = nome\n",
    "        self.sexo = sexo\n",
    "        self.cpf = cpf\n",
    "        "
   ]
  },
  {
   "attachments": {},
   "cell_type": "markdown",
   "metadata": {},
   "source": [
    "#### Criando outros métodos\n",
    "> * O parâmetro `self` é usado para referenciar a própria instância da classe em que o método está sendo executado. Quando chamamos o método em uma instância da classe, O Python automaticamente passa essa instância como primeiro argumento do método.<br><br>\n",
    ">* Em Python, não é estritamente necessário declarar os atributos de uma classe assim como é feito em outras linguagens, como Java, exceto em casos onde queremos declarar um atributo estático. Aqui eles são criados de forma dinâmica dentro do próprio construtor.<br><br>\n",
    "> * Além do construtor, podemos criar outros métodos também:"
   ]
  },
  {
   "cell_type": "code",
   "execution_count": 6,
   "metadata": {},
   "outputs": [],
   "source": [
    "class Pessoa:\n",
    "    \n",
    "    # Construtor\n",
    "    \n",
    "    def __init__(self, nome, sexo, cpf):\n",
    "        self.nome = nome\n",
    "        self.sexo = sexo\n",
    "        self.cpf = cpf\n",
    "    \n",
    "    # Outro método \n",
    "    \n",
    "    def imprime(self):\n",
    "        print(f'Nome: {self.nome}\\nSexo: {self.sexo}\\nCPF: {self.cpf}')"
   ]
  },
  {
   "attachments": {},
   "cell_type": "markdown",
   "metadata": {},
   "source": [
    "#### Métodos get e set\n",
    "> * Em Python, a criação de métodos de acesso e modificação não são estritamente necessários, sendo considerada até uma prática redundante, uma vez que podemos acessar e modificar atributos de um objeto diretamente, exceto em casos em que desejamos ter um controle mais rígido sobre a visibilidade dos atributos.<br><br>\n",
    "> * Para ficar mais claro, iremos instanciar um objeto da classe Pessoa e realizar modificações em um atributo:"
   ]
  },
  {
   "cell_type": "code",
   "execution_count": null,
   "metadata": {},
   "outputs": [],
   "source": [
    "p1 = Pessoa('Amanda', 'F', '000.000.000-00')\n",
    "p1.imprime()\n",
    "\n",
    "'''\n",
    "Nome: Amanda\n",
    "Sexo: F\n",
    "CPF: 000.000.000-00\n",
    "'''\n",
    "\n",
    "p1.nome = 'Dora'\n",
    "print(p1.nome)\n",
    "\n",
    "# Dora\n"
   ]
  },
  {
   "attachments": {},
   "cell_type": "markdown",
   "metadata": {},
   "source": [
    "> * Perceba que o atributo nome do objeto p1 passou a ser \"Dora\". Conseguimos alterar e mostrar seu valor sem a necessidade dos métodos de acesso / modificação. <br><br>\n",
    "> * Mas se caso quisermos inserir os métodos _getters_ e _setters_, não há problema. Podemos fazer da seguinte forma: "
   ]
  },
  {
   "cell_type": "code",
   "execution_count": 1,
   "metadata": {},
   "outputs": [],
   "source": [
    "class Pessoa:\n",
    "    \n",
    "    # Construtor\n",
    "    def __init__(self, nome, sexo, cpf):\n",
    "        self.nome = nome\n",
    "        self.sexo = sexo\n",
    "        self.cpf = cpf\n",
    "    \n",
    "    \n",
    "    # Getters\n",
    "    def get_nome(self):\n",
    "        return self.nome\n",
    "    \n",
    "    def get_sexo(self):\n",
    "        return self.sexo\n",
    "    \n",
    "    def get_cpf(self):\n",
    "        return self.cpf\n",
    "    \n",
    "    \n",
    "    # Setters\n",
    "    def set_nome(self, nome):\n",
    "        self.nome = nome\n",
    "        \n",
    "    def set_sexo(self, sexo):\n",
    "        self.sexo = sexo\n",
    "        \n",
    "    def set_cpf(self, cpf):\n",
    "        self.cpf = cpf\n",
    "        \n",
    "    \n",
    "    # Outro método \n",
    "    def imprime(self):\n",
    "        print(f'Nome: {self.nome}\\nSexo: {self.sexo}\\nCPF: {self.cpf}')"
   ]
  },
  {
   "cell_type": "code",
   "execution_count": null,
   "metadata": {},
   "outputs": [],
   "source": [
    "p2 = Pessoa('João', 'M', '111.111.111-11')\n",
    "print(p2.get_nome())\n",
    "\n",
    "p2.set_cpf('222.222.222-22')\n",
    "print(p2.get_cpf())"
   ]
  },
  {
   "attachments": {},
   "cell_type": "markdown",
   "metadata": {},
   "source": [
    "> * Usando estes métodos, o acesso e o controle de modificações dos atributos se dá de forma mais organizada. Mas não resolve o problema do acesso direto aos atributos: ainda conseguimos acessá-los e modificá-los de forma direta. Veja no exemplo abaixo:"
   ]
  },
  {
   "cell_type": "code",
   "execution_count": null,
   "metadata": {},
   "outputs": [],
   "source": [
    "p2.nome = 'Pedro'\n",
    "print(p2.nome)\n",
    "\n",
    "# Pedro"
   ]
  },
  {
   "attachments": {},
   "cell_type": "markdown",
   "metadata": {},
   "source": [
    "#### Encapsulamento\n",
    "\n",
    "> * Como visto anteriormente, conseguimos ter acesso aos atributos pois eles automaticamente são declarados como públicos, ou seja, podem ser acessados de forma direta. <br><br>\n",
    "> * No entanto é possível utilizar o conceito de encapsulamento para \"restringir\" o acesso direto aos atributos e permitir que eles sejam acessados e modificados apelas pelos métodos _getters_ e _setters_. <br><br>\n",
    "> * Para fazer isso, basta declarar os atributos como privados dentro do construtor:"
   ]
  },
  {
   "cell_type": "code",
   "execution_count": 9,
   "metadata": {},
   "outputs": [],
   "source": [
    "class Pessoa:\n",
    "    \n",
    "    # Construtor\n",
    "    def __init__(self, nome, sexo, cpf):\n",
    "        self.__nome = nome\n",
    "        self.__sexo = sexo\n",
    "        self.__cpf = cpf\n",
    "    \n",
    "    \n",
    "    # Getters\n",
    "    def get_nome(self):\n",
    "        return self.__nome\n",
    "    \n",
    "    def get_sexo(self):\n",
    "        return self.__sexo\n",
    "    \n",
    "    def get_cpf(self):\n",
    "        return self.__cpf\n",
    "    \n",
    "    \n",
    "    # Setters\n",
    "    def set_nome(self, nome):\n",
    "        self.__nome = nome\n",
    "        \n",
    "    def set_sexo(self, sexo):\n",
    "        self.__sexo = sexo\n",
    "        \n",
    "    def set_cpf(self, cpf):\n",
    "        self.__cpf = cpf\n",
    "        \n",
    "    \n",
    "    # Outro método \n",
    "    def imprime(self):\n",
    "        print(f'Nome: {self.nome}\\nSexo: {self.sexo}\\nCPF: {self.cpf}')\n"
   ]
  },
  {
   "cell_type": "code",
   "execution_count": null,
   "metadata": {},
   "outputs": [],
   "source": [
    "p3 = Pessoa('Bruno', 'M', '333.333.333-33')\n",
    "#print(p3.__nome) -> Erro: 'Pessoa' object has no attribute '__nome'\n",
    "p3.nome = 'Zé'\n",
    "print(p3.nome)\n",
    "# Zé\n"
   ]
  },
  {
   "attachments": {},
   "cell_type": "markdown",
   "metadata": {},
   "source": [
    "> * Em Python, continua sendo possível modificar um atributo diretamente mesmo tendo-o declarado como privado e construído os métodos get e set. A única coisa que fica restrita, a princípio, é a sua visibilidade, que só se torna possível usando seu método get. "
   ]
  }
 ],
 "metadata": {
  "kernelspec": {
   "display_name": "Python 3",
   "language": "python",
   "name": "python3"
  },
  "language_info": {
   "codemirror_mode": {
    "name": "ipython",
    "version": 3
   },
   "file_extension": ".py",
   "mimetype": "text/x-python",
   "name": "python",
   "nbconvert_exporter": "python",
   "pygments_lexer": "ipython3",
   "version": "3.10.7"
  },
  "orig_nbformat": 4,
  "vscode": {
   "interpreter": {
    "hash": "b1be5a1e9e85905d3e4e97ef1b769f5caa870a8a58c9f9e0ae488b6f0a0e1baf"
   }
  }
 },
 "nbformat": 4,
 "nbformat_minor": 2
}
